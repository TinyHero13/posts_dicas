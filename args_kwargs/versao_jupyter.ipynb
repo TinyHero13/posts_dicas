{
 "cells": [
  {
   "cell_type": "code",
   "execution_count": 1,
   "metadata": {},
   "outputs": [
    {
     "name": "stdout",
     "output_type": "stream",
     "text": [
      "Exemplo 1: 3\n"
     ]
    }
   ],
   "source": [
    "def soma(a, b):\n",
    "    return a + b\n",
    "\n",
    "print(f\"Exemplo 1: {soma(1, 2)}\")"
   ]
  },
  {
   "cell_type": "code",
   "execution_count": 2,
   "metadata": {},
   "outputs": [
    {
     "name": "stdout",
     "output_type": "stream",
     "text": [
      "Exemplo 2: 6\n"
     ]
    }
   ],
   "source": [
    "def soma(a, b, c):\n",
    "    return a + b + c\n",
    "\n",
    "print(f\"Exemplo 2: {soma(1, 2, 3)}\")"
   ]
  },
  {
   "cell_type": "code",
   "execution_count": 3,
   "metadata": {},
   "outputs": [
    {
     "name": "stdout",
     "output_type": "stream",
     "text": [
      "Exemplo 3: 6\n",
      "Exemplo 3: 10\n"
     ]
    }
   ],
   "source": [
    "def soma(*a):\n",
    "    resultado = 0\n",
    "    for i in a:\n",
    "        resultado += i\n",
    "    return resultado\n",
    "\n",
    "print(f\"Exemplo 3: {soma(2, 4)}\")\n",
    "print(f\"Exemplo 3: {soma(4, 2, 1, 3)}\")"
   ]
  },
  {
   "cell_type": "code",
   "execution_count": 4,
   "metadata": {},
   "outputs": [
    {
     "name": "stdout",
     "output_type": "stream",
     "text": [
      "Exemplo 4: nome - Carlos\n",
      "Exemplo 4: idade - 40\n"
     ]
    }
   ],
   "source": [
    "def pessoa(**kwargs):\n",
    "    for chave, valor in kwargs.items():\n",
    "        print(f\"Exemplo 4: {chave} - {valor}\")\n",
    "\n",
    "pessoa(nome=\"Carlos\", idade=40)"
   ]
  },
  {
   "cell_type": "code",
   "execution_count": 5,
   "metadata": {},
   "outputs": [
    {
     "name": "stdout",
     "output_type": "stream",
     "text": [
      "Exemplo 5: {'nome': 'Carlos', 'idade': 44}\n"
     ]
    }
   ],
   "source": [
    "\n",
    "def pessoa(**kwargs):\n",
    "    print(f\"Exemplo 5: {kwargs}\")\n",
    "\n",
    "d = {'nome': 'Carlos', 'idade': 44}\n",
    "pessoa(**d)"
   ]
  },
  {
   "cell_type": "code",
   "execution_count": 6,
   "metadata": {},
   "outputs": [
    {
     "name": "stdout",
     "output_type": "stream",
     "text": [
      "Exemplo 6: Carlos, 40\n"
     ]
    }
   ],
   "source": [
    "def pessoa(nome, idade):\n",
    "    print(f\"Exemplo 6: {nome}, {idade}\")\n",
    "\n",
    "pessoa(\"Carlos\", 40)"
   ]
  }
 ],
 "metadata": {
  "kernelspec": {
   "display_name": "Python 3",
   "language": "python",
   "name": "python3"
  },
  "language_info": {
   "codemirror_mode": {
    "name": "ipython",
    "version": 3
   },
   "file_extension": ".py",
   "mimetype": "text/x-python",
   "name": "python",
   "nbconvert_exporter": "python",
   "pygments_lexer": "ipython3",
   "version": "3.13.0"
  }
 },
 "nbformat": 4,
 "nbformat_minor": 2
}
